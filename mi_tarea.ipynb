{
 "cells": [
  {
   "cell_type": "code",
   "execution_count": 5,
   "id": "a605dd44-d582-4459-8e11-5042e26cd3af",
   "metadata": {},
   "outputs": [
    {
     "name": "stdout",
     "output_type": "stream",
     "text": [
      "El tamaño de la cadena es: 18\n",
      "El tamaño de la cadena es: 13\n",
      "La lista sin duplicados sería: ['c', 'a', 'b']\n",
      "*\n",
      "**\n",
      "***\n",
      "****\n",
      "*****\n",
      "****\n",
      "***\n",
      "**\n",
      "*\n"
     ]
    }
   ],
   "source": [
    "#1. Calcular el tamaño de la cadena \"Esta es una cadena\" sin usar la función len. \n",
    "cad = \"Esta es una cadena\" \n",
    "n = 0  \n",
    " \n",
    "for i in cad: \n",
    "    n += 1 \n",
    " \n",
    "print(\"El tamaño de la cadena es:\", n) \n",
    " \n",
    "#2.Contar el número de caracteres en la cadena trabajando.pe \n",
    "cad = \"trabajando.pe\" \n",
    "n = 0  \n",
    " \n",
    "for i in cad: \n",
    "    n += 1 \n",
    " \n",
    "print(\"El tamaño de la cadena es:\", n) \n",
    " \n",
    "#3.Eliminar duplicados de la lista ['a', 'b', 'c', 'a', 'c', 'c']. \n",
    "lis= ['a', 'b', 'c', 'a', 'c', 'c'] \n",
    " \n",
    "lista = list(set(lis)) \n",
    " \n",
    "print(\"La lista sin duplicados sería:\", lista) \n",
    " \n",
    "#4.Imprimir el patrón siguiente, usando bucles \n",
    "for i in range(1, 10): \n",
    "  if i <= 5: \n",
    "      print('*' * i) \n",
    "  else: \n",
    "      print('*' * (10 - i)) "
   ]
  },
  {
   "cell_type": "code",
   "execution_count": 10,
   "id": "dc7d8902-ecbe-4f8e-a7e0-dc3cc4662ae9",
   "metadata": {},
   "outputs": [
    {
     "name": "stdin",
     "output_type": "stream",
     "text": [
      "Ingresa un número:  2\n"
     ]
    },
    {
     "name": "stdout",
     "output_type": "stream",
     "text": [
      "2 es un número primo.\n"
     ]
    }
   ],
   "source": [
    "#5 Escribir una función para determinar si un número es primo o no. \n",
    "import math\n",
    "\n",
    "def es_primo(n):\n",
    "    if n <= 1:\n",
    "        return False  \n",
    "    for i in range(2, int(math.sqrt(n)) + 1):\n",
    "        if n % i == 0:\n",
    "            return False\n",
    "    return True\n",
    "\n",
    "numero = int(input(\"Ingresa un número: \"))\n",
    "\n",
    "if es_primo(numero):\n",
    "    print(numero, \"es un número primo.\")\n",
    "else:\n",
    "    print(numero, \"no es un número primo.\")"
   ]
  },
  {
   "cell_type": "code",
   "execution_count": null,
   "id": "dfee04a1-64c8-41bc-ba5d-79d3adeea6e9",
   "metadata": {},
   "outputs": [],
   "source": []
  }
 ],
 "metadata": {
  "kernelspec": {
   "display_name": "Python 3 (ipykernel)",
   "language": "python",
   "name": "python3"
  },
  "language_info": {
   "codemirror_mode": {
    "name": "ipython",
    "version": 3
   },
   "file_extension": ".py",
   "mimetype": "text/x-python",
   "name": "python",
   "nbconvert_exporter": "python",
   "pygments_lexer": "ipython3",
   "version": "3.12.7"
  }
 },
 "nbformat": 4,
 "nbformat_minor": 5
}
